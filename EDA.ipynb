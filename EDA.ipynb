{
 "cells": [
  {
   "cell_type": "code",
   "execution_count": 1,
   "metadata": {},
   "outputs": [],
   "source": [
    "import pandas as pd\n",
    "import warnings\n",
    "warnings.filterwarnings(\"ignore\")\n",
    "\n",
    "import matplotlib.pyplot as plt\n",
    "from matplotlib import rc\n",
    "rc('font', family='AppleGothic')\n",
    "plt.rcParams['axes.unicode_minus'] = False"
   ]
  },
  {
   "cell_type": "code",
   "execution_count": 2,
   "metadata": {},
   "outputs": [],
   "source": [
    "category_df = pd.read_csv('./data/category.csv')\n",
    "data_df = pd.read_csv('./data/train/train.csv')"
   ]
  },
  {
   "cell_type": "markdown",
   "metadata": {},
   "source": [
    "# 적정 pos_weight 계산"
   ]
  },
  {
   "cell_type": "code",
   "execution_count": 9,
   "metadata": {},
   "outputs": [],
   "source": [
    "data_df['n_label'] = data_df['SSnos'].apply(lambda x: x.count(' ') + 1)"
   ]
  },
  {
   "cell_type": "code",
   "execution_count": 18,
   "metadata": {},
   "outputs": [
    {
     "data": {
      "text/plain": [
       "472.2233851048688"
      ]
     },
     "execution_count": 18,
     "metadata": {},
     "output_type": "execute_result"
    }
   ],
   "source": [
    "564 * 60000 / data_df['n_label'].sum()"
   ]
  },
  {
   "cell_type": "markdown",
   "metadata": {},
   "source": [
    "# 계층간 데이터 양 분석"
   ]
  },
  {
   "cell_type": "code",
   "execution_count": 3,
   "metadata": {},
   "outputs": [
    {
     "data": {
      "text/html": [
       "<div>\n",
       "<style scoped>\n",
       "    .dataframe tbody tr th:only-of-type {\n",
       "        vertical-align: middle;\n",
       "    }\n",
       "\n",
       "    .dataframe tbody tr th {\n",
       "        vertical-align: top;\n",
       "    }\n",
       "\n",
       "    .dataframe thead th {\n",
       "        text-align: right;\n",
       "    }\n",
       "</style>\n",
       "<table border=\"1\" class=\"dataframe\">\n",
       "  <thead>\n",
       "    <tr style=\"text-align: right;\">\n",
       "      <th></th>\n",
       "      <th>SSno</th>\n",
       "      <th>SStext</th>\n",
       "      <th>Sno</th>\n",
       "      <th>Stext</th>\n",
       "      <th>Mno</th>\n",
       "      <th>Mtext</th>\n",
       "      <th>Lno</th>\n",
       "      <th>Ltext</th>\n",
       "      <th>LLno</th>\n",
       "      <th>LLtext</th>\n",
       "    </tr>\n",
       "  </thead>\n",
       "  <tbody>\n",
       "    <tr>\n",
       "      <th>0</th>\n",
       "      <td>1110</td>\n",
       "      <td>곡물 및 기타 식량작물 재배업</td>\n",
       "      <td>111</td>\n",
       "      <td>곡물 및 기타 식량작물 재배업</td>\n",
       "      <td>11</td>\n",
       "      <td>작물 재배업</td>\n",
       "      <td>1</td>\n",
       "      <td>농업</td>\n",
       "      <td>A</td>\n",
       "      <td>농업, 임업 및 어업(01~03)</td>\n",
       "    </tr>\n",
       "    <tr>\n",
       "      <th>1</th>\n",
       "      <td>1121</td>\n",
       "      <td>채소작물 재배업</td>\n",
       "      <td>112</td>\n",
       "      <td>채소, 화훼작물 및 종묘 재배업</td>\n",
       "      <td>11</td>\n",
       "      <td>작물 재배업</td>\n",
       "      <td>1</td>\n",
       "      <td>농업</td>\n",
       "      <td>A</td>\n",
       "      <td>농업, 임업 및 어업(01~03)</td>\n",
       "    </tr>\n",
       "    <tr>\n",
       "      <th>2</th>\n",
       "      <td>1122</td>\n",
       "      <td>화훼작물 재배업</td>\n",
       "      <td>112</td>\n",
       "      <td>채소, 화훼작물 및 종묘 재배업</td>\n",
       "      <td>11</td>\n",
       "      <td>작물 재배업</td>\n",
       "      <td>1</td>\n",
       "      <td>농업</td>\n",
       "      <td>A</td>\n",
       "      <td>농업, 임업 및 어업(01~03)</td>\n",
       "    </tr>\n",
       "    <tr>\n",
       "      <th>3</th>\n",
       "      <td>1123</td>\n",
       "      <td>종자 및 묘목 생산업</td>\n",
       "      <td>112</td>\n",
       "      <td>채소, 화훼작물 및 종묘 재배업</td>\n",
       "      <td>11</td>\n",
       "      <td>작물 재배업</td>\n",
       "      <td>1</td>\n",
       "      <td>농업</td>\n",
       "      <td>A</td>\n",
       "      <td>농업, 임업 및 어업(01~03)</td>\n",
       "    </tr>\n",
       "    <tr>\n",
       "      <th>4</th>\n",
       "      <td>1131</td>\n",
       "      <td>과실작물 재배업</td>\n",
       "      <td>113</td>\n",
       "      <td>과실, 음료용 및 향신용 작물 재배업</td>\n",
       "      <td>11</td>\n",
       "      <td>작물 재배업</td>\n",
       "      <td>1</td>\n",
       "      <td>농업</td>\n",
       "      <td>A</td>\n",
       "      <td>농업, 임업 및 어업(01~03)</td>\n",
       "    </tr>\n",
       "    <tr>\n",
       "      <th>...</th>\n",
       "      <td>...</td>\n",
       "      <td>...</td>\n",
       "      <td>...</td>\n",
       "      <td>...</td>\n",
       "      <td>...</td>\n",
       "      <td>...</td>\n",
       "      <td>...</td>\n",
       "      <td>...</td>\n",
       "      <td>...</td>\n",
       "      <td>...</td>\n",
       "    </tr>\n",
       "    <tr>\n",
       "      <th>559</th>\n",
       "      <td>61299</td>\n",
       "      <td>그 외 기타 전기 통신업</td>\n",
       "      <td>6129</td>\n",
       "      <td>기타 전기 통신업</td>\n",
       "      <td>612</td>\n",
       "      <td>전기 통신업</td>\n",
       "      <td>61</td>\n",
       "      <td>우편 및 통신업</td>\n",
       "      <td>J</td>\n",
       "      <td>정보통신업(58~63)</td>\n",
       "    </tr>\n",
       "    <tr>\n",
       "      <th>560</th>\n",
       "      <td>62010</td>\n",
       "      <td>컴퓨터 프로그래밍 서비스업</td>\n",
       "      <td>6201</td>\n",
       "      <td>컴퓨터 프로그래밍 서비스업</td>\n",
       "      <td>620</td>\n",
       "      <td>컴퓨터 프로그래밍, 시스템 통합 및 관리업</td>\n",
       "      <td>62</td>\n",
       "      <td>컴퓨터 프로그래밍, 시스템 통합 및 관리업</td>\n",
       "      <td>J</td>\n",
       "      <td>정보통신업(58~63)</td>\n",
       "    </tr>\n",
       "    <tr>\n",
       "      <th>561</th>\n",
       "      <td>62021</td>\n",
       "      <td>컴퓨터 시스템 통합 자문 및 구축 서비스업</td>\n",
       "      <td>6202</td>\n",
       "      <td>컴퓨터 시스템 통합 자문, 구축 및 관리업</td>\n",
       "      <td>620</td>\n",
       "      <td>컴퓨터 프로그래밍, 시스템 통합 및 관리업</td>\n",
       "      <td>62</td>\n",
       "      <td>컴퓨터 프로그래밍, 시스템 통합 및 관리업</td>\n",
       "      <td>J</td>\n",
       "      <td>정보통신업(58~63)</td>\n",
       "    </tr>\n",
       "    <tr>\n",
       "      <th>562</th>\n",
       "      <td>62022</td>\n",
       "      <td>컴퓨터시설 관리업</td>\n",
       "      <td>6202</td>\n",
       "      <td>컴퓨터 시스템 통합 자문, 구축 및 관리업</td>\n",
       "      <td>620</td>\n",
       "      <td>컴퓨터 프로그래밍, 시스템 통합 및 관리업</td>\n",
       "      <td>62</td>\n",
       "      <td>컴퓨터 프로그래밍, 시스템 통합 및 관리업</td>\n",
       "      <td>J</td>\n",
       "      <td>정보통신업(58~63)</td>\n",
       "    </tr>\n",
       "    <tr>\n",
       "      <th>563</th>\n",
       "      <td>62090</td>\n",
       "      <td>기타 정보 기술 및 컴퓨터 운영 관련 서비스업</td>\n",
       "      <td>6209</td>\n",
       "      <td>기타 정보 기술 및 컴퓨터 운영 관련 서비스업</td>\n",
       "      <td>620</td>\n",
       "      <td>컴퓨터 프로그래밍, 시스템 통합 및 관리업</td>\n",
       "      <td>62</td>\n",
       "      <td>컴퓨터 프로그래밍, 시스템 통합 및 관리업</td>\n",
       "      <td>J</td>\n",
       "      <td>정보통신업(58~63)</td>\n",
       "    </tr>\n",
       "  </tbody>\n",
       "</table>\n",
       "<p>564 rows × 10 columns</p>\n",
       "</div>"
      ],
      "text/plain": [
       "      SSno                     SStext   Sno                      Stext  Mno  \\\n",
       "0     1110           곡물 및 기타 식량작물 재배업   111           곡물 및 기타 식량작물 재배업   11   \n",
       "1     1121                   채소작물 재배업   112          채소, 화훼작물 및 종묘 재배업   11   \n",
       "2     1122                   화훼작물 재배업   112          채소, 화훼작물 및 종묘 재배업   11   \n",
       "3     1123                종자 및 묘목 생산업   112          채소, 화훼작물 및 종묘 재배업   11   \n",
       "4     1131                   과실작물 재배업   113       과실, 음료용 및 향신용 작물 재배업   11   \n",
       "..     ...                        ...   ...                        ...  ...   \n",
       "559  61299              그 외 기타 전기 통신업  6129                  기타 전기 통신업  612   \n",
       "560  62010             컴퓨터 프로그래밍 서비스업  6201             컴퓨터 프로그래밍 서비스업  620   \n",
       "561  62021    컴퓨터 시스템 통합 자문 및 구축 서비스업  6202    컴퓨터 시스템 통합 자문, 구축 및 관리업  620   \n",
       "562  62022                  컴퓨터시설 관리업  6202    컴퓨터 시스템 통합 자문, 구축 및 관리업  620   \n",
       "563  62090  기타 정보 기술 및 컴퓨터 운영 관련 서비스업  6209  기타 정보 기술 및 컴퓨터 운영 관련 서비스업  620   \n",
       "\n",
       "                       Mtext  Lno                    Ltext LLno  \\\n",
       "0                     작물 재배업    1                       농업    A   \n",
       "1                     작물 재배업    1                       농업    A   \n",
       "2                     작물 재배업    1                       농업    A   \n",
       "3                     작물 재배업    1                       농업    A   \n",
       "4                     작물 재배업    1                       농업    A   \n",
       "..                       ...  ...                      ...  ...   \n",
       "559                   전기 통신업   61                 우편 및 통신업    J   \n",
       "560  컴퓨터 프로그래밍, 시스템 통합 및 관리업   62  컴퓨터 프로그래밍, 시스템 통합 및 관리업    J   \n",
       "561  컴퓨터 프로그래밍, 시스템 통합 및 관리업   62  컴퓨터 프로그래밍, 시스템 통합 및 관리업    J   \n",
       "562  컴퓨터 프로그래밍, 시스템 통합 및 관리업   62  컴퓨터 프로그래밍, 시스템 통합 및 관리업    J   \n",
       "563  컴퓨터 프로그래밍, 시스템 통합 및 관리업   62  컴퓨터 프로그래밍, 시스템 통합 및 관리업    J   \n",
       "\n",
       "                 LLtext  \n",
       "0    농업, 임업 및 어업(01~03)  \n",
       "1    농업, 임업 및 어업(01~03)  \n",
       "2    농업, 임업 및 어업(01~03)  \n",
       "3    농업, 임업 및 어업(01~03)  \n",
       "4    농업, 임업 및 어업(01~03)  \n",
       "..                  ...  \n",
       "559        정보통신업(58~63)  \n",
       "560        정보통신업(58~63)  \n",
       "561        정보통신업(58~63)  \n",
       "562        정보통신업(58~63)  \n",
       "563        정보통신업(58~63)  \n",
       "\n",
       "[564 rows x 10 columns]"
      ]
     },
     "execution_count": 3,
     "metadata": {},
     "output_type": "execute_result"
    }
   ],
   "source": [
    "category_df"
   ]
  },
  {
   "cell_type": "code",
   "execution_count": 51,
   "metadata": {},
   "outputs": [
    {
     "data": {
      "text/plain": [
       "array(['A', 'B', 'C', 'D', 'E', 'F', 'J'], dtype=object)"
      ]
     },
     "execution_count": 51,
     "metadata": {},
     "output_type": "execute_result"
    }
   ],
   "source": [
    "category_df['LLno'].unique()"
   ]
  },
  {
   "cell_type": "code",
   "execution_count": 52,
   "metadata": {},
   "outputs": [],
   "source": [
    "category_df = category_df[['LLno', 'Lno', 'Mno', 'Sno', 'SSno']]"
   ]
  },
  {
   "cell_type": "code",
   "execution_count": 53,
   "metadata": {},
   "outputs": [
    {
     "data": {
      "image/png": "[encoded data removed]",
      "text/plain": [
       "<Figure size 1500x400 with 5 Axes>"
      ]
     },
     "metadata": {},
     "output_type": "display_data"
    }
   ],
   "source": [
    "def show_graph(df):\n",
    "    fig, axes = plt.subplots(nrows=1, ncols=len(df.columns), figsize=(15, 4))\n",
    "    for i, col in enumerate(df.columns):\n",
    "        counts = df[col].value_counts()\n",
    "        counts = counts.reindex(sorted(counts.index))  # x축 값을 컬럼 이름 순서대로 정렬\n",
    "        counts.plot(kind='bar', ax=axes[i], title=col, legend=False)  # x축 값 이름 숨김\n",
    "        plt.setp(axes[i].get_xticklabels(), visible=False)  # x축 라벨 숨김\n",
    "\n",
    "    plt.tight_layout()\n",
    "    plt.show()\n",
    "\n",
    "show_graph(category_df)"
   ]
  },
  {
   "cell_type": "code",
   "execution_count": 54,
   "metadata": {},
   "outputs": [
    {
     "data": {
      "image/png": "[encoded data removed]",
      "text/plain": [
       "<Figure size 1500x400 with 2 Axes>"
      ]
     },
     "metadata": {},
     "output_type": "display_data"
    }
   ],
   "source": [
    "show_graph(category_df[['Sno', 'Mno']])"
   ]
  },
  {
   "cell_type": "code",
   "execution_count": 59,
   "metadata": {},
   "outputs": [
    {
     "data": {
      "text/html": [
       "<div>\n",
       "<style scoped>\n",
       "    .dataframe tbody tr th:only-of-type {\n",
       "        vertical-align: middle;\n",
       "    }\n",
       "\n",
       "    .dataframe tbody tr th {\n",
       "        vertical-align: top;\n",
       "    }\n",
       "\n",
       "    .dataframe thead th {\n",
       "        text-align: right;\n",
       "    }\n",
       "</style>\n",
       "<table border=\"1\" class=\"dataframe\">\n",
       "  <thead>\n",
       "    <tr style=\"text-align: right;\">\n",
       "      <th></th>\n",
       "      <th>LLno</th>\n",
       "      <th>Lno</th>\n",
       "      <th>Mno</th>\n",
       "      <th>Sno</th>\n",
       "      <th>SSno</th>\n",
       "    </tr>\n",
       "  </thead>\n",
       "  <tbody>\n",
       "    <tr>\n",
       "      <th>0</th>\n",
       "      <td>A</td>\n",
       "      <td>1</td>\n",
       "      <td>11</td>\n",
       "      <td>111</td>\n",
       "      <td>1110</td>\n",
       "    </tr>\n",
       "    <tr>\n",
       "      <th>1</th>\n",
       "      <td>A</td>\n",
       "      <td>1</td>\n",
       "      <td>11</td>\n",
       "      <td>112</td>\n",
       "      <td>1121</td>\n",
       "    </tr>\n",
       "    <tr>\n",
       "      <th>2</th>\n",
       "      <td>A</td>\n",
       "      <td>1</td>\n",
       "      <td>11</td>\n",
       "      <td>112</td>\n",
       "      <td>1122</td>\n",
       "    </tr>\n",
       "    <tr>\n",
       "      <th>3</th>\n",
       "      <td>A</td>\n",
       "      <td>1</td>\n",
       "      <td>11</td>\n",
       "      <td>112</td>\n",
       "      <td>1123</td>\n",
       "    </tr>\n",
       "    <tr>\n",
       "      <th>4</th>\n",
       "      <td>A</td>\n",
       "      <td>1</td>\n",
       "      <td>11</td>\n",
       "      <td>113</td>\n",
       "      <td>1131</td>\n",
       "    </tr>\n",
       "    <tr>\n",
       "      <th>...</th>\n",
       "      <td>...</td>\n",
       "      <td>...</td>\n",
       "      <td>...</td>\n",
       "      <td>...</td>\n",
       "      <td>...</td>\n",
       "    </tr>\n",
       "    <tr>\n",
       "      <th>559</th>\n",
       "      <td>J</td>\n",
       "      <td>61</td>\n",
       "      <td>612</td>\n",
       "      <td>6129</td>\n",
       "      <td>61299</td>\n",
       "    </tr>\n",
       "    <tr>\n",
       "      <th>560</th>\n",
       "      <td>J</td>\n",
       "      <td>62</td>\n",
       "      <td>620</td>\n",
       "      <td>6201</td>\n",
       "      <td>62010</td>\n",
       "    </tr>\n",
       "    <tr>\n",
       "      <th>561</th>\n",
       "      <td>J</td>\n",
       "      <td>62</td>\n",
       "      <td>620</td>\n",
       "      <td>6202</td>\n",
       "      <td>62021</td>\n",
       "    </tr>\n",
       "    <tr>\n",
       "      <th>562</th>\n",
       "      <td>J</td>\n",
       "      <td>62</td>\n",
       "      <td>620</td>\n",
       "      <td>6202</td>\n",
       "      <td>62022</td>\n",
       "    </tr>\n",
       "    <tr>\n",
       "      <th>563</th>\n",
       "      <td>J</td>\n",
       "      <td>62</td>\n",
       "      <td>620</td>\n",
       "      <td>6209</td>\n",
       "      <td>62090</td>\n",
       "    </tr>\n",
       "  </tbody>\n",
       "</table>\n",
       "<p>564 rows × 5 columns</p>\n",
       "</div>"
      ],
      "text/plain": [
       "    LLno  Lno  Mno   Sno   SSno\n",
       "0      A    1   11   111   1110\n",
       "1      A    1   11   112   1121\n",
       "2      A    1   11   112   1122\n",
       "3      A    1   11   112   1123\n",
       "4      A    1   11   113   1131\n",
       "..   ...  ...  ...   ...    ...\n",
       "559    J   61  612  6129  61299\n",
       "560    J   62  620  6201  62010\n",
       "561    J   62  620  6202  62021\n",
       "562    J   62  620  6202  62022\n",
       "563    J   62  620  6209  62090\n",
       "\n",
       "[564 rows x 5 columns]"
      ]
     },
     "execution_count": 59,
     "metadata": {},
     "output_type": "execute_result"
    }
   ],
   "source": [
    "category_df"
   ]
  },
  {
   "cell_type": "code",
   "execution_count": 57,
   "metadata": {},
   "outputs": [
    {
     "data": {
      "image/png": "[encoded data removed]",
      "text/plain": [
       "<Figure size 1000x200 with 1 Axes>"
      ]
     },
     "metadata": {},
     "output_type": "display_data"
    }
   ],
   "source": [
    "value_counts = category_df['LLno'].value_counts(normalize=True).sort_index()\n",
    "\n",
    "# 시작 위치 초기화\n",
    "start = 0\n",
    "\n",
    "# 각 범주를 나타내는 막대의 끝 위치\n",
    "positions = []\n",
    "for value in value_counts:\n",
    "    end = start + value\n",
    "    positions.append((start, end))\n",
    "    start = end\n",
    "\n",
    "# 단일 막대 그래프로 표현\n",
    "plt.figure(figsize=(10, 2))\n",
    "for (start, end), color in zip(positions, plt.cm.tab20.colors):\n",
    "    plt.barh('LLno', end-start, left=start, color=color)\n",
    "plt.title('LLno 컬럼의 값에 따른 비율')\n",
    "plt.xlabel('비율')\n",
    "plt.xlim(0, 1)  # X 축의 한계 설정\n",
    "plt.show()"
   ]
  },
  {
   "cell_type": "code",
   "execution_count": 47,
   "metadata": {},
   "outputs": [
    {
     "data": {
      "image/png": "[encoded data removed]",
      "text/plain": [
       "<Figure size 1000x700 with 1 Axes>"
      ]
     },
     "metadata": {},
     "output_type": "display_data"
    }
   ],
   "source": [
    "# 예시 데이터프레임 생성\n",
    "data = {\n",
    "    'Category': ['Fruit', 'Fruit', 'Vegetable', 'Vegetable'],\n",
    "    'Subcategory': ['Apple', 'Banana', 'Carrot', 'Beans'],\n",
    "    'Value': [30, 70, 40, 60]\n",
    "}\n",
    "\n",
    "df = pd.DataFrame(data)\n",
    "\n",
    "# 계층적 스택 바 차트를 위해 데이터를 재구성\n",
    "pivot_df = df.pivot(index='Category', columns='Subcategory', values='Value')\n",
    "\n",
    "# 스택 바 차트 그리기\n",
    "pivot_df.plot(kind='bar', stacked=True, figsize=(10, 7))\n",
    "plt.title('Hierarchical Stacked Bar Chart')\n",
    "plt.xlabel('Category')\n",
    "plt.ylabel('Value')\n",
    "plt.show()"
   ]
  },
  {
   "cell_type": "code",
   "execution_count": null,
   "metadata": {},
   "outputs": [],
   "source": []
  }
 ],
 "metadata": {
  "kernelspec": {
   "display_name": "patent",
   "language": "python",
   "name": "python3"
  },
  "language_info": {
   "codemirror_mode": {
    "name": "ipython",
    "version": 3
   },
   "file_extension": ".py",
   "mimetype": "text/x-python",
   "name": "python",
   "nbconvert_exporter": "python",
   "pygments_lexer": "ipython3",
   "version": "3.10.12"
  }
 },
 "nbformat": 4,
 "nbformat_minor": 2
}
