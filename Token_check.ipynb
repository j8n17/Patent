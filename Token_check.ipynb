{
 "cells": [
  {
   "cell_type": "code",
   "execution_count": 52,
   "metadata": {},
   "outputs": [],
   "source": [
    "from datasets import load_from_disk\n",
    "\n",
    "# 저장된 데이터셋 로드\n",
    "loaded_dataset = load_from_disk('./data/train/KoPatElectra_base')\n"
   ]
  },
  {
   "cell_type": "code",
   "execution_count": 53,
   "metadata": {},
   "outputs": [],
   "source": [
    "from transformers import AutoTokenizer\n",
    "tokenizer = AutoTokenizer.from_pretrained(\"./baseline/KIPIKorPatELECTRA/KorPatELECTRA/PT\")"
   ]
  },
  {
   "cell_type": "code",
   "execution_count": null,
   "metadata": {},
   "outputs": [
    {
     "data": {
      "text/plain": [
       "Dataset({\n",
       "    features: ['documentId', 'texts', 'labels', 'input_ids', 'token_type_ids', 'attention_mask'],\n",
       "    num_rows: 60000\n",
       "})"
      ]
     },
     "execution_count": 2,
     "metadata": {},
     "output_type": "execute_result"
    }
   ],
   "source": [
    "loaded_dataset"
   ]
  },
  {
   "cell_type": "code",
   "execution_count": 16,
   "metadata": {},
   "outputs": [
    {
     "data": {
      "text/plain": [
       "'콤팩트 디스크를 동기 녹음회로 요약 이 고안은 CD가 장착된 녹음장치에 관한 것으로서, 더욱 상세하게는 CD가 수록된 곡을 테이프에 녹음할 때에 녹음기를 누름과 동시에 콘덴서에 충전시켜 CD의 동작시간을 지연시킨 후 충전되는 시간만큼 CD의 리드 인 타임을 지연시켜 처음곡의 앞부분이 끊기지 않고 녹음이 이루어진다. 청구항 카세트 테이프 플레이어와 CD 플레이어가 일체화된 장치에서, 녹음키가 입력되면 CD 플레이어가 재생동작을 함과 동시에, 재생된 신호가 카세트 테이프 플레이어에 녹음되도록 하기 위한 동기 녹음회로에 있어서, 녹음키 신호를 지연하는 지연부 상기 지연부의 출력에 근거하여 CD 플레이어의 재생동작을 제어하기 위한 제어신호를 발생하는 CD 제어신호 발생부 상기 CD 제어신호 발생부에 발생된 제어신호에 응답하여 CD 플레이어의 재생동작을 제어하는 마이콤을 포함하는 것을 특징으로 하는 동기 녹음회로.'"
      ]
     },
     "execution_count": 16,
     "metadata": {},
     "output_type": "execute_result"
    }
   ],
   "source": [
    "text = loaded_dataset['texts'][0]\n",
    "text"
   ]
  },
  {
   "cell_type": "code",
   "execution_count": null,
   "metadata": {},
   "outputs": [
    {
     "data": {
      "text/plain": [
       "'[CLS] 콤팩트 디스크를 동기 녹음회로 요약 이 고안은 CD가 장착된 녹음장치에 관한 것으로서, 더욱 상세하게는 CD가 수록된 곡을 테이프에 녹음할 때에 녹음기를 누름과 동시에 콘덴서에 충전시켜 CD의 동작시간을 지연시킨 후 충전되는 시간만큼 CD의 리드 인 타임을 지연시켜 처음곡의 앞부분이 끊기지 않고 녹음이 이루어진다. 청구항 카세트 테이프 플레이어와 CD 플레이어가 일체화된 장치에서, 녹음키가 입력되면 CD 플레이어가 재생동작을 함과 동시에, 재생된 신호가 카세트 테이프 플레이어에 녹음되도록 하기 위한 동기 녹음회로에 있어서, 녹음키 신호를 지연하는 지연부 상기 지연부의 출력에 근거하여 CD 플레이어의 재생동작을 제어하기 위한 제어신호를 발생하는 CD 제어신호 발생부 상기 CD 제어신호 발생부에 발생된 제어신호에 응답하여 CD 플레이어의 재생동작을 제어하는 마이콤을 포함하는 것을 특징으로 하는 동기 녹음회로. [SEP]'"
      ]
     },
     "metadata": {},
     "output_type": "display_data"
    }
   ],
   "source": [
    "encode = tokenizer.encode(text)\n",
    "tokenizer.decode(encode)"
   ]
  },
  {
   "cell_type": "code",
   "execution_count": 26,
   "metadata": {},
   "outputs": [
    {
     "data": {
      "text/plain": [
       "'[CLS] 콤팩트 디스크 ##를 동기 녹음 ##회로 요약 이 고안 ##은 CD ##가 장착 ##된 녹음 ##장치 ##에 관한 것 ##으로 ##서 , 더욱 상세 ##하 ##게 ##는 CD ##가 수록 ##된 곡 ##을 테이프 ##에 녹음 ##할 때 ##에 녹음 ##기 ##를 누름 ##과 동시 ##에 콘덴서 ##에 충전시 ##켜 CD ##의 동작시간 ##을 지연 ##시 ##킨 후 충전 ##되 ##는 시간 ##만큼 CD ##의 리드 인 타임 ##을 지연 ##시 ##켜 처음 ##곡 ##의 앞부분 ##이 끊 ##기지 않 ##고 녹음 ##이 이루어진다 . 청구항 카세트 테이프 플레이어 ##와 CD 플레이어 ##가 일체화 ##된 장치 ##에 ##서 , 녹음 ##키 ##가 입력 ##되 ##면 CD 플레이어 ##가 재생 ##동작 ##을 함 ##과 동시 ##에 , 재생 ##된 신호 ##가 카세트 테이프 플레이어 ##에 녹음 ##되 ##도록 하기 위한 동기 녹음 ##회로 ##에 있 ##어서 , 녹음 ##키 신호 ##를 지연 ##하 ##는 지연부 상기 지연부 ##의 출력 ##에 근거 ##하여 CD 플레이어 ##의 재생 ##동작 ##을 제어하 ##기 위한 제어신호 ##를 발생 ##하 ##는 CD 제어신호 발생부 상기 CD 제어신호 발생부 ##에 발생 ##된 제어신호 ##에 응답 ##하여 CD 플레이어 ##의 재생 ##동작 ##을 제어하 ##는 마이콤 ##을 포함 ##하 ##는 것 ##을 특징 ##으로 하 ##는 동기 녹음 ##회로 . [SEP]'"
      ]
     },
     "execution_count": 26,
     "metadata": {},
     "output_type": "execute_result"
    }
   ],
   "source": [
    "\" \".join(tokenizer.convert_ids_to_tokens(encode))"
   ]
  },
  {
   "cell_type": "code",
   "execution_count": 28,
   "metadata": {},
   "outputs": [
    {
     "data": {
      "text/plain": [
       "1"
      ]
     },
     "execution_count": 28,
     "metadata": {},
     "output_type": "execute_result"
    }
   ],
   "source": [
    "tokenizer.unk_token_id"
   ]
  },
  {
   "cell_type": "code",
   "execution_count": 47,
   "metadata": {},
   "outputs": [],
   "source": [
    "def find_positions_of_ones(matrix):\n",
    "    positions = []  # 값이 1인 위치를 저장할 리스트\n",
    "    for i, row in enumerate(matrix):  # 각 행에 대해 반복\n",
    "        for j, value in enumerate(row):  # 각 열에 대해 반복\n",
    "            if value == 1:  # 값이 1인 경우\n",
    "                positions.append(i)  # 위치(행 인덱스, 열 인덱스) 추가\n",
    "    return positions\n",
    "\n",
    "# 함수 호출 및 결과 출력\n",
    "token_ids = loaded_dataset['input_ids']\n",
    "positions = find_positions_of_ones(token_ids)"
   ]
  },
  {
   "cell_type": "code",
   "execution_count": 37,
   "metadata": {},
   "outputs": [],
   "source": [
    "texts = loaded_dataset['texts']"
   ]
  },
  {
   "cell_type": "code",
   "execution_count": 48,
   "metadata": {},
   "outputs": [
    {
     "data": {
      "text/plain": [
       "175"
      ]
     },
     "execution_count": 48,
     "metadata": {},
     "output_type": "execute_result"
    }
   ],
   "source": [
    "positions[0]"
   ]
  },
  {
   "cell_type": "code",
   "execution_count": 38,
   "metadata": {},
   "outputs": [
    {
     "data": {
      "text/plain": [
       "'스탠드형 종이포장대 요약 본 고안은, 스텐드형 포장대에 있어서, 종이재인 컽포장대 내부에 연질의 필름제인 속포장대를 갖도록 한 것으로서, 겨울철과 같이 냉한기에 겉포장대가 손쉽게 파손되지 않도록 하였고, 외부의 충격에 의해 겉포장대가 파손되더라도 속포장대에 의해 내용물이 유출되지 않도록 하였으며, 겉포장대와 속포장대와의 사이에 형성된 공간부가 외부의 온도변화를 둔화시켜서 온도변화에 따른 내용물의 부패 및 변질의 방지할 수 있도록 하였을 뿐만 아니라, 특히 겉포장대와 속포장대를 분리수거하여 겉포장대는 재활용하고 속포장대만 폐기처분 함으로써, 자원활용에 따른 생산원가 절감 및 쓰레기량 최소화로 환경오염을 최소화할 수 있는 매우 유용한 고안인 것이다. 청구항 1. 스탠드형 포장대에 있어서, 상기 포장대100는, 일정한 크기로 절형된 4각형상의 겉포장대10의 전면종이11와 후면종이12사이에, 필림재인 속포장대20의 전면필름21과 후면필름22을 내설하여 그 양측단부1424를 일체로 열융착하고, 상기 전면필름21과 후면필름22하부 사이에 상면으로 저면필름23을 가지는 저면종이13가 열융착 되며, 상부에 내용물을 주입할 수 있는 개구부40를 갖는 것을 특징으로 하는 스탠드형 포장대.'"
      ]
     },
     "execution_count": 38,
     "metadata": {},
     "output_type": "execute_result"
    }
   ],
   "source": [
    "texts[175]"
   ]
  },
  {
   "cell_type": "code",
   "execution_count": 40,
   "metadata": {},
   "outputs": [
    {
     "data": {
      "text/plain": [
       "'[CLS] 스탠드 ##형 종이 ##포장 ##대 요약 본 고안 ##은 , 스텐 ##드 ##형 포장 ##대 ##에 있 ##어서 , 종이 ##재 ##인 [UNK] 내부 ##에 연질 ##의 필름 ##제인 속 ##포장 ##대 ##를 갖 ##도록 한 것 ##으로 ##서 , 겨울철 ##과 같이 냉 ##한 ##기 ##에 겉 ##포장 ##대 ##가 손쉽 ##게 파손 ##되 ##지 않 ##도록 하 ##였 ##고 , 외부 ##의 충격 ##에 의해 겉 ##포장 ##대 ##가 파손 ##되 ##더 ##라도 속 ##포장 ##대 ##에 의해 내용물 ##이 유출 ##되 ##지 않 ##도록 하 ##였 ##으며 , 겉 ##포장 ##대 ##와 속 ##포장 ##대 ##와 ##의 사이 ##에 형성 ##된 공간부 ##가 외부 ##의 온도변화 ##를 둔 ##화 ##시켜서 온도변화 ##에 따른 내용물 ##의 부패 및 변질 ##의 방지 ##할 수 있 ##도록 하 ##였 ##을 뿐 ##만 아니 ##라 , 특히 겉 ##포장 ##대 ##와 속 ##포장 ##대 ##를 분리 ##수거 ##하여 겉 ##포장 ##대 ##는 재활용 ##하 ##고 속 ##포장 ##대 ##만 폐기 ##처 ##분 함 ##으로 ##써 , 자원 ##활용 ##에 따른 생산 ##원 ##가 절감 및 쓰레기 ##량 최소 ##화 ##로 환경오염 ##을 최소 ##화 ##할 수 있 ##는 매우 유용 ##한 고안인 것 ##이 ##다 . 청구항 1 . 스탠드 ##형 포장 ##대 ##에 있 ##어서 , 상기 포장 ##대 ##100 ##는 , 일정 ##한 크기 ##로 절 ##형 ##된 4 ##각형 ##상 ##의 겉 ##포장 ##대 ##10 ##의 전면 ##종 ##이 ##11 ##와 후면 ##종 ##이 ##12 ##사이 ##에 , 필 ##림 ##재 ##인 속 ##포장 ##대 ##20 ##의 전면 ##필름 ##21 ##과 후면 ##필름 ##22 ##을 내설 ##하여 그 양측단부 ##14 ##24 ##를 일체 ##로 열융착 ##하 ##고 , 상기 전면 ##필름 ##21 ##과 후면 ##필름 ##22 ##하부 사이 ##에 상면 ##으로 저면 ##필름 ##23 ##을 가지 ##는 저면 ##종 ##이 ##13 ##가 열융착 되 ##며 , 상부 ##에 내용물 ##을 주입 ##할 수 있 ##는 개구부 ##40 ##를 갖 ##는 것 ##을 특징 ##으로 하 ##는 스탠드 ##형 포장 ##대 . [SEP] [PAD] [PAD] [PAD] [PAD] [PAD] [PAD] [PAD] [PAD] [PAD] [PAD] [PAD] [PAD] [PAD] [PAD] [PAD] [PAD] [PAD] [PAD] [PAD] [PAD] [PAD] [PAD] [PAD] [PAD] [PAD] [PAD] [PAD] [PAD] [PAD] [PAD] [PAD] [PAD] [PAD] [PAD] [PAD] [PAD] [PAD] [PAD] [PAD] [PAD] [PAD] [PAD] [PAD] [PAD] [PAD] [PAD] [PAD] [PAD] [PAD] [PAD] [PAD] [PAD] [PAD] [PAD] [PAD] [PAD] [PAD] [PAD] [PAD] [PAD] [PAD] [PAD] [PAD] [PAD] [PAD] [PAD] [PAD] [PAD] [PAD] [PAD] [PAD] [PAD] [PAD] [PAD] [PAD] [PAD] [PAD] [PAD] [PAD] [PAD] [PAD] [PAD] [PAD] [PAD] [PAD] [PAD] [PAD] [PAD] [PAD] [PAD] [PAD] [PAD] [PAD] [PAD] [PAD] [PAD] [PAD] [PAD] [PAD] [PAD] [PAD] [PAD] [PAD] [PAD] [PAD] [PAD] [PAD] [PAD] [PAD] [PAD] [PAD] [PAD] [PAD] [PAD] [PAD] [PAD] [PAD] [PAD] [PAD] [PAD] [PAD] [PAD] [PAD] [PAD] [PAD] [PAD] [PAD] [PAD] [PAD] [PAD] [PAD] [PAD] [PAD] [PAD] [PAD] [PAD] [PAD] [PAD] [PAD] [PAD] [PAD] [PAD] [PAD] [PAD] [PAD] [PAD] [PAD] [PAD] [PAD] [PAD] [PAD] [PAD] [PAD] [PAD] [PAD] [PAD] [PAD] [PAD] [PAD] [PAD] [PAD] [PAD] [PAD] [PAD] [PAD] [PAD] [PAD] [PAD] [PAD] [PAD] [PAD] [PAD] [PAD] [PAD] [PAD] [PAD] [PAD] [PAD] [PAD] [PAD] [PAD] [PAD] [PAD] [PAD] [PAD] [PAD] [PAD]'"
      ]
     },
     "execution_count": 40,
     "metadata": {},
     "output_type": "execute_result"
    }
   ],
   "source": [
    "\" \".join(tokenizer.convert_ids_to_tokens(token_ids[175]))"
   ]
  },
  {
   "cell_type": "code",
   "execution_count": null,
   "metadata": {},
   "outputs": [],
   "source": []
  }
 ],
 "metadata": {
  "kernelspec": {
   "display_name": "patent",
   "language": "python",
   "name": "python3"
  },
  "language_info": {
   "codemirror_mode": {
    "name": "ipython",
    "version": 3
   },
   "file_extension": ".py",
   "mimetype": "text/x-python",
   "name": "python",
   "nbconvert_exporter": "python",
   "pygments_lexer": "ipython3",
   "version": "3.10.12"
  }
 },
 "nbformat": 4,
 "nbformat_minor": 2
}
